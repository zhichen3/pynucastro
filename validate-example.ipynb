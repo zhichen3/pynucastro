{
 "cells": [
  {
   "cell_type": "markdown",
   "id": "0784b0fc-cf3a-4f75-b22f-e96d7e469d1a",
   "metadata": {},
   "source": [
    "# Checking your network"
   ]
  },
  {
   "cell_type": "markdown",
   "id": "9e3624d6-13c9-4a06-ba3f-45fad24dd88e",
   "metadata": {},
   "source": [
    "Selecting which rates to include and which to exclude from your network is a bit of an art.  pynucastro has a few tools to help check what you might be missing.\n",
    "\n",
    "Let's start by trying to create a network for carbon burning."
   ]
  },
  {
   "cell_type": "code",
   "execution_count": 1,
   "id": "40841ac9-5cf2-4d12-9df9-2cd460852ca2",
   "metadata": {
    "execution": {
     "iopub.execute_input": "2022-10-04T17:38:11.827579Z",
     "iopub.status.busy": "2022-10-04T17:38:11.827289Z",
     "iopub.status.idle": "2022-10-04T17:38:14.330562Z",
     "shell.execute_reply": "2022-10-04T17:38:14.329792Z"
    }
   },
   "outputs": [],
   "source": [
    "import pynucastro as pyna"
   ]
  },
  {
   "cell_type": "code",
   "execution_count": 2,
   "id": "94d36083-9d99-457f-9103-3a45e046d613",
   "metadata": {
    "execution": {
     "iopub.execute_input": "2022-10-04T17:38:14.335252Z",
     "iopub.status.busy": "2022-10-04T17:38:14.334688Z",
     "iopub.status.idle": "2022-10-04T17:38:21.178862Z",
     "shell.execute_reply": "2022-10-04T17:38:21.178094Z"
    }
   },
   "outputs": [],
   "source": [
    "reaclib_library = pyna.ReacLibLibrary()"
   ]
  },
  {
   "cell_type": "markdown",
   "id": "da391bca-c38c-437a-a419-88f26f7b7ac0",
   "metadata": {},
   "source": [
    "To start, let's pick the nuclei $\\alpha$, ${}^{12}\\mathrm{C}$ and ${}^{20}\\mathrm{Ne}$"
   ]
  },
  {
   "cell_type": "code",
   "execution_count": 3,
   "id": "d722ada1-99ca-4b06-b2dc-0b16ddce64d4",
   "metadata": {
    "execution": {
     "iopub.execute_input": "2022-10-04T17:38:21.183238Z",
     "iopub.status.busy": "2022-10-04T17:38:21.182681Z",
     "iopub.status.idle": "2022-10-04T17:38:21.311673Z",
     "shell.execute_reply": "2022-10-04T17:38:21.310076Z"
    }
   },
   "outputs": [
    {
     "name": "stdout",
     "output_type": "stream",
     "text": [
      "He4 + He4 + He4 ⟶ C12 + 𝛾      [Q =   7.28 MeV] (he4 + he4 + he4 --> c12 <fy05_reaclib__>)\n",
      "C12 + C12 ⟶ He4 + Ne20         [Q =   4.62 MeV] (c12 + c12 --> he4 + ne20 <cf88_reaclib__>)\n",
      "C12 ⟶ He4 + He4 + He4          [Q =  -7.28 MeV] (c12 --> he4 + he4 + he4 <fy05_reaclib__reverse>)\n",
      "Ne20 + He4 ⟶ C12 + C12         [Q =  -4.62 MeV] (ne20 + he4 --> c12 + c12 <cf88_reaclib__reverse>)\n"
     ]
    }
   ],
   "source": [
    "nuclei = [\"he4\", \"c12\", \"ne20\"]\n",
    "cburn_library = reaclib_library.linking_nuclei(nuclei)\n",
    "print(cburn_library)"
   ]
  },
  {
   "cell_type": "markdown",
   "id": "53c36d63-b39b-4a5b-ae2a-750b00e83668",
   "metadata": {},
   "source": [
    "Now, since we are primarily interested in ${}^{12}\\mathrm{C} + {}^{12}\\mathrm{C}$, let's make sure we are not missing any other reactions that have the same reactants.  The `validate()` method will do this, by comparing the rates we have selected to another library."
   ]
  },
  {
   "cell_type": "code",
   "execution_count": 4,
   "id": "d85f0c38-5eec-43b1-900a-c6077182e9fe",
   "metadata": {
    "execution": {
     "iopub.execute_input": "2022-10-04T17:38:21.315169Z",
     "iopub.status.busy": "2022-10-04T17:38:21.314641Z",
     "iopub.status.idle": "2022-10-04T17:38:22.765084Z",
     "shell.execute_reply": "2022-10-04T17:38:22.764395Z"
    }
   },
   "outputs": [
    {
     "name": "stdout",
     "output_type": "stream",
     "text": [
      "validation: ne20 produced in C12 + C12 ⟶ He4 + Ne20 never consumed.\n"
     ]
    },
    {
     "name": "stdout",
     "output_type": "stream",
     "text": [
      "validation: missing He4 + He4 + He4 ⟶ p + B11 as alternative to He4 + He4 + He4 ⟶ C12 + 𝛾 (Q = -8.682 MeV).\n",
      "validation: missing He4 + He4 + He4 ⟶ n + C11 as alternative to He4 + He4 + He4 ⟶ C12 + 𝛾 (Q = -11.4466 MeV).\n",
      "validation: missing C12 + C12 ⟶ p + Na23 as alternative to C12 + C12 ⟶ He4 + Ne20 (Q = 2.242 MeV).\n",
      "validation: missing C12 + C12 ⟶ n + Mg23 as alternative to C12 + C12 ⟶ He4 + Ne20 (Q = -2.598 MeV).\n"
     ]
    },
    {
     "data": {
      "text/plain": [
       "False"
      ]
     },
     "execution_count": 4,
     "metadata": {},
     "output_type": "execute_result"
    }
   ],
   "source": [
    "cburn_library.validate(reaclib_library)"
   ]
  },
  {
   "cell_type": "markdown",
   "id": "e97e51f3-996a-4323-869a-956867fd6596",
   "metadata": {},
   "source": [
    "This tells us that we are missing 2 branches of the ${}^{12}\\mathrm{C} + {}^{12}\\mathrm{C}$ reaction.  ReacLib already scales the rates based on the branching of the products, so we should try to include these other branches.\n",
    "\n",
    "Note: by default, `validate()` only checks forward rates.\n",
    "\n",
    "To do so, we need to include the additional nuclei.  In particular, the branch that makes ${}^{23}\\mathrm{Na}$ is likely important (the rate making ${}^{23}\\mathrm{Mg}$ is endothermic, so less likely)."
   ]
  },
  {
   "cell_type": "code",
   "execution_count": 5,
   "id": "567a885a-783e-4be3-bd1e-56728956ffc8",
   "metadata": {
    "execution": {
     "iopub.execute_input": "2022-10-04T17:38:22.768800Z",
     "iopub.status.busy": "2022-10-04T17:38:22.768139Z",
     "iopub.status.idle": "2022-10-04T17:38:22.913602Z",
     "shell.execute_reply": "2022-10-04T17:38:22.912797Z"
    }
   },
   "outputs": [
    {
     "name": "stdout",
     "output_type": "stream",
     "text": [
      "He4 + He4 + He4 ⟶ C12 + 𝛾      [Q =   7.28 MeV] (he4 + he4 + he4 --> c12 <fy05_reaclib__>)\n",
      "C12 + C12 ⟶ He4 + Ne20         [Q =   4.62 MeV] (c12 + c12 --> he4 + ne20 <cf88_reaclib__>)\n",
      "C12 + C12 ⟶ p + Na23           [Q =   2.24 MeV] (c12 + c12 --> p + na23 <cf88_reaclib__>)\n",
      "Na23 + p ⟶ He4 + Ne20          [Q =   2.38 MeV] (na23 + p --> he4 + ne20 <il10_reaclib__>)\n",
      "C12 ⟶ He4 + He4 + He4          [Q =  -7.28 MeV] (c12 --> he4 + he4 + he4 <fy05_reaclib__reverse>)\n",
      "Ne20 + He4 ⟶ C12 + C12         [Q =  -4.62 MeV] (ne20 + he4 --> c12 + c12 <cf88_reaclib__reverse>)\n",
      "Ne20 + He4 ⟶ p + Na23          [Q =  -2.38 MeV] (ne20 + he4 --> p + na23 <il10_reaclib__reverse>)\n",
      "Na23 + p ⟶ C12 + C12           [Q =  -2.24 MeV] (na23 + p --> c12 + c12 <cf88_reaclib__reverse>)\n"
     ]
    }
   ],
   "source": [
    "nuclei += [\"p\", \"na23\"]\n",
    "cburn_library = reaclib_library.linking_nuclei(nuclei)\n",
    "print(cburn_library)"
   ]
  },
  {
   "cell_type": "code",
   "execution_count": 6,
   "id": "64774e00-8a1b-48c7-bf3f-d8cfc37fe96d",
   "metadata": {
    "execution": {
     "iopub.execute_input": "2022-10-04T17:38:22.917092Z",
     "iopub.status.busy": "2022-10-04T17:38:22.916672Z",
     "iopub.status.idle": "2022-10-04T17:38:24.362392Z",
     "shell.execute_reply": "2022-10-04T17:38:24.361567Z"
    }
   },
   "outputs": [
    {
     "name": "stdout",
     "output_type": "stream",
     "text": [
      "validation: ne20 produced in C12 + C12 ⟶ He4 + Ne20 never consumed.\n",
      "validation: ne20 produced in Na23 + p ⟶ He4 + Ne20 never consumed.\n"
     ]
    },
    {
     "name": "stdout",
     "output_type": "stream",
     "text": [
      "validation: missing He4 + He4 + He4 ⟶ p + B11 as alternative to He4 + He4 + He4 ⟶ C12 + 𝛾 (Q = -8.682 MeV).\n",
      "validation: missing He4 + He4 + He4 ⟶ n + C11 as alternative to He4 + He4 + He4 ⟶ C12 + 𝛾 (Q = -11.4466 MeV).\n",
      "validation: missing C12 + C12 ⟶ n + Mg23 as alternative to C12 + C12 ⟶ He4 + Ne20 (Q = -2.598 MeV).\n",
      "validation: missing C12 + C12 ⟶ n + Mg23 as alternative to C12 + C12 ⟶ p + Na23 (Q = -2.598 MeV).\n",
      "validation: missing Na23 + p ⟶ n + Mg23 as alternative to Na23 + p ⟶ He4 + Ne20 (Q = -4.839 MeV).\n",
      "validation: missing Na23 + p ⟶ Mg24 + 𝛾 as alternative to Na23 + p ⟶ He4 + Ne20 (Q = 11.6927 MeV).\n"
     ]
    },
    {
     "data": {
      "text/plain": [
       "False"
      ]
     },
     "execution_count": 6,
     "metadata": {},
     "output_type": "execute_result"
    }
   ],
   "source": [
    "cburn_library.validate(reaclib_library)"
   ]
  },
  {
   "cell_type": "markdown",
   "id": "34070657-d310-495c-8355-0c25464ec8ea",
   "metadata": {},
   "source": [
    "Now, looking at what is missing, we probably want to include ${}^{24}\\mathrm{Mg}$ as an endpoint for carbon burning."
   ]
  },
  {
   "cell_type": "code",
   "execution_count": 7,
   "id": "382be1d1-0086-4ef9-aab5-67681939d132",
   "metadata": {
    "execution": {
     "iopub.execute_input": "2022-10-04T17:38:24.366069Z",
     "iopub.status.busy": "2022-10-04T17:38:24.365558Z",
     "iopub.status.idle": "2022-10-04T17:38:24.510547Z",
     "shell.execute_reply": "2022-10-04T17:38:24.509401Z"
    }
   },
   "outputs": [
    {
     "name": "stdout",
     "output_type": "stream",
     "text": [
      "He4 + He4 + He4 ⟶ C12 + 𝛾      [Q =   7.28 MeV] (he4 + he4 + he4 --> c12 <fy05_reaclib__>)\n",
      "C12 + C12 ⟶ He4 + Ne20         [Q =   4.62 MeV] (c12 + c12 --> he4 + ne20 <cf88_reaclib__>)\n",
      "C12 + C12 ⟶ p + Na23           [Q =   2.24 MeV] (c12 + c12 --> p + na23 <cf88_reaclib__>)\n",
      "Ne20 + He4 ⟶ Mg24 + 𝛾          [Q =   9.32 MeV] (ne20 + he4 --> mg24 <il10_reaclib__>)\n",
      "Na23 + p ⟶ He4 + Ne20          [Q =   2.38 MeV] (na23 + p --> he4 + ne20 <il10_reaclib__>)\n",
      "Na23 + p ⟶ Mg24 + 𝛾            [Q =  11.69 MeV] (na23 + p --> mg24 <il10_reaclib__>)\n",
      "C12 ⟶ He4 + He4 + He4          [Q =  -7.28 MeV] (c12 --> he4 + he4 + he4 <fy05_reaclib__reverse>)\n",
      "Ne20 + He4 ⟶ C12 + C12         [Q =  -4.62 MeV] (ne20 + he4 --> c12 + c12 <cf88_reaclib__reverse>)\n",
      "Ne20 + He4 ⟶ p + Na23          [Q =  -2.38 MeV] (ne20 + he4 --> p + na23 <il10_reaclib__reverse>)\n",
      "Na23 + p ⟶ C12 + C12           [Q =  -2.24 MeV] (na23 + p --> c12 + c12 <cf88_reaclib__reverse>)\n",
      "Mg24 ⟶ He4 + Ne20              [Q =  -9.32 MeV] (mg24 --> he4 + ne20 <il10_reaclib__reverse>)\n",
      "Mg24 ⟶ p + Na23                [Q = -11.69 MeV] (mg24 --> p + na23 <il10_reaclib__reverse>)\n"
     ]
    }
   ],
   "source": [
    "nuclei += [\"mg24\"]\n",
    "cburn_library = reaclib_library.linking_nuclei(nuclei)\n",
    "print(cburn_library)"
   ]
  },
  {
   "cell_type": "code",
   "execution_count": 8,
   "id": "754e2898-1d65-495e-ac05-e1f45b151b71",
   "metadata": {
    "execution": {
     "iopub.execute_input": "2022-10-04T17:38:24.514286Z",
     "iopub.status.busy": "2022-10-04T17:38:24.513806Z",
     "iopub.status.idle": "2022-10-04T17:38:25.963154Z",
     "shell.execute_reply": "2022-10-04T17:38:25.962439Z"
    }
   },
   "outputs": [
    {
     "name": "stdout",
     "output_type": "stream",
     "text": [
      "validation: mg24 produced in Ne20 + He4 ⟶ Mg24 + 𝛾 never consumed.\n",
      "validation: mg24 produced in Na23 + p ⟶ Mg24 + 𝛾 never consumed.\n"
     ]
    },
    {
     "name": "stdout",
     "output_type": "stream",
     "text": [
      "validation: missing He4 + He4 + He4 ⟶ p + B11 as alternative to He4 + He4 + He4 ⟶ C12 + 𝛾 (Q = -8.682 MeV).\n",
      "validation: missing He4 + He4 + He4 ⟶ n + C11 as alternative to He4 + He4 + He4 ⟶ C12 + 𝛾 (Q = -11.4466 MeV).\n",
      "validation: missing C12 + C12 ⟶ n + Mg23 as alternative to C12 + C12 ⟶ He4 + Ne20 (Q = -2.598 MeV).\n",
      "validation: missing C12 + C12 ⟶ n + Mg23 as alternative to C12 + C12 ⟶ p + Na23 (Q = -2.598 MeV).\n",
      "validation: missing Ne20 + He4 ⟶ n + Mg23 as alternative to Ne20 + He4 ⟶ Mg24 + 𝛾 (Q = -7.21457 MeV).\n",
      "validation: missing Na23 + p ⟶ n + Mg23 as alternative to Na23 + p ⟶ He4 + Ne20 (Q = -4.839 MeV).\n",
      "validation: missing Na23 + p ⟶ n + Mg23 as alternative to Na23 + p ⟶ Mg24 + 𝛾 (Q = -4.839 MeV).\n"
     ]
    },
    {
     "data": {
      "text/plain": [
       "False"
      ]
     },
     "execution_count": 8,
     "metadata": {},
     "output_type": "execute_result"
    }
   ],
   "source": [
    "cburn_library.validate(reaclib_library)"
   ]
  },
  {
   "cell_type": "markdown",
   "id": "78f5f05d-8466-4f08-aafc-09331faa3587",
   "metadata": {},
   "source": [
    "Now that we are happy with this, we can make a `RateCollection` and plot it"
   ]
  },
  {
   "cell_type": "code",
   "execution_count": 9,
   "id": "7d6ff645-2100-4f9b-b944-cdc581a2836e",
   "metadata": {
    "execution": {
     "iopub.execute_input": "2022-10-04T17:38:25.966735Z",
     "iopub.status.busy": "2022-10-04T17:38:25.966187Z",
     "iopub.status.idle": "2022-10-04T17:38:26.302182Z",
     "shell.execute_reply": "2022-10-04T17:38:26.301560Z"
    }
   },
   "outputs": [
    {
     "data": {
      "image/png": "[encoded data removed]",
      "text/plain": [
       "<Figure size 800x600 with 1 Axes>"
      ]
     },
     "metadata": {},
     "output_type": "display_data"
    }
   ],
   "source": [
    "rc = pyna.RateCollection(libraries=[cburn_library])\n",
    "rc.plot()"
   ]
  }
 ],
 "metadata": {
  "kernelspec": {
   "display_name": "Python 3 (ipykernel)",
   "language": "python",
   "name": "python3"
  },
  "language_info": {
   "codemirror_mode": {
    "name": "ipython",
    "version": 3
   },
   "file_extension": ".py",
   "mimetype": "text/x-python",
   "name": "python",
   "nbconvert_exporter": "python",
   "pygments_lexer": "ipython3",
   "version": "3.8.14"
  }
 },
 "nbformat": 4,
 "nbformat_minor": 5
}
